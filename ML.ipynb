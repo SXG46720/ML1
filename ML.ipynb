{
 "cells": [
  {
   "cell_type": "code",
   "execution_count": 1,
   "id": "e3c30157",
   "metadata": {},
   "outputs": [
    {
     "name": "stdout",
     "output_type": "stream",
     "text": [
      "Sorted List: [19, 19, 20, 22, 24, 24, 24, 25, 25, 26]\n",
      "Min Age: 19\n",
      "Max Age: 26\n",
      "List after adding Min and Max: [19, 19, 20, 22, 24, 24, 24, 25, 25, 26, 19, 26]\n",
      "Median: 24.0\n",
      "Average: 22.75\n",
      "Range: 7\n"
     ]
    }
   ],
   "source": [
    "ages = [19, 22, 19, 24, 20, 25, 26, 24, 25, 24]\n",
    "\n",
    "# Sort the list and find the min and max age\n",
    "ages.sort()\n",
    "minAge = min(ages)\n",
    "maxAge = max(ages)\n",
    "print(\"Sorted List:\", ages)\n",
    "print(\"Min Age:\", minAge)\n",
    "print(\"Max Age:\", maxAge)\n",
    "\n",
    "# Add the min age and the max age again to the list\n",
    "ages.append(minAge)\n",
    "ages.append(maxAge)\n",
    "print(\"List after adding Min and Max:\", ages)\n",
    "\n",
    "# Find the median age (one middle item or two middle items divided by two)\n",
    "ages.sort()\n",
    "\n",
    "if len(ages) % 2 == 0:\n",
    "    midIndex = int(len(ages) / 2) - 1\n",
    "    centerLeft = ages[midIndex]\n",
    "    centerRight = ages[midIndex + 1]\n",
    "    median = (centerLeft + centerRight) / 2\n",
    "else:\n",
    "    midIndex = int(len(ages) / 2)\n",
    "    median = ages[midIndex]\n",
    "\n",
    "print(\"Median:\", median)\n",
    "\n",
    "# Find the average age (sum of all items divided by their number)\n",
    "average = sum(ages) / len(ages)\n",
    "print(\"Average:\", average)\n",
    "\n",
    "# Find the range of the ages (max minus min)\n",
    "range = maxAge - minAge\n",
    "print(\"Range:\", range)\n",
    "\n"
   ]
  },
  {
   "cell_type": "code",
   "execution_count": 2,
   "id": "aa11d480",
   "metadata": {},
   "outputs": [
    {
     "name": "stdout",
     "output_type": "stream",
     "text": [
      "dog dictionary: {'name': 'Rex', 'color': 'Black and Tan', 'breed': 'German Shepherd', 'legs': 4, 'age': 2}\n",
      "Student dictionary: {'first_name': 'Cristiano', 'last_name': 'Ronaldo', 'gender': 'M', 'age': 20, 'marital status': 'Married', 'skills': ['Football', 'High Jump'], 'country': 'Portugal', 'city': 'Funchal', 'address': '22 Rua de Santa Maria'}\n",
      "student Dictionary Length: 9\n",
      "Skills: ['Football', 'High Jump']\n",
      "Data type of 'skills' value is list\n",
      "Skills after adding 'Sprint': ['Football', 'High Jump', 'Sprint']\n",
      "Keys as List: ['first_name', 'last_name', 'gender', 'age', 'marital status', 'skills', 'country', 'city', 'address']\n",
      "Values as List: ['Cristiano', 'Ronaldo', 'M', 20, 'Married', ['Football', 'High Jump', 'Sprint'], 'Portugal', 'Funchal', '22 Rua de Santa Maria']\n"
     ]
    }
   ],
   "source": [
    "# Create an empty dictionary called dog\n",
    "dog = dict()\n",
    "\n",
    "# Add name, color, breed, legs, age to the dog dictionary\n",
    "dog[\"name\"] = \"Rex\"\n",
    "dog[\"color\"] = \"Black and Tan\"\n",
    "dog[\"breed\"] = \"German Shepherd\"\n",
    "dog[\"legs\"] = 4\n",
    "dog[\"age\"] = 2\n",
    "print(\"dog dictionary:\", dog)\n",
    "\n",
    "# Create a student dictionary and add first_name, last_name, gender, age, marital status,\n",
    "# skills, country, city and address as keys for the dictionary\n",
    "student = dict()\n",
    "student[\"first_name\"] = \"Cristiano\"\n",
    "student[\"last_name\"] = \"Ronaldo\"\n",
    "student[\"gender\"] = \"M\"\n",
    "student[\"age\"] = 20\n",
    "student[\"marital status\"] = \"Married\"\n",
    "student[\"skills\"] = [\"Football\", \"High Jump\"]\n",
    "student[\"country\"] = \"Portugal\"\n",
    "student[\"city\"] = \"Funchal\"\n",
    "student[\"address\"] = \"22 Rua de Santa Maria\"\n",
    "print(\"Student dictionary:\", student)\n",
    "\n",
    "# Get the length of the student dictionary\n",
    "studDictLength = len(student)\n",
    "print(\"student Dictionary Length:\", studDictLength)\n",
    "\n",
    "# Get the value of skills and check the data type, it should be a list\n",
    "skills = student[\"skills\"]\n",
    "dataType = type(skills)\n",
    "print(\"Skills:\", skills)\n",
    "\n",
    "if type(skills) == list:\n",
    "    print(\"Data type of 'skills' value is list\")\n",
    "else:\n",
    "    print(\"Data type of 'skills' value is not list\")\n",
    "\n",
    "# Modify the skills values by adding one or two skills\n",
    "student[\"skills\"].append(\"Sprint\")\n",
    "print(\"Skills after adding 'Sprint':\", student[\"skills\"])\n",
    "\n",
    "# Get the dictionary keys as a list\n",
    "keys = student.keys()\n",
    "keysAsList = list(keys)\n",
    "print(\"Keys as List:\", keysAsList)\n",
    "\n",
    "# Get the dictionary values as a list\n",
    "values = student.values()\n",
    "valuesAsList = list(values)\n",
    "print(\"Values as List:\", valuesAsList)\n"
   ]
  },
  {
   "cell_type": "code",
   "execution_count": 3,
   "id": "024cfc23",
   "metadata": {},
   "outputs": [
    {
     "name": "stdout",
     "output_type": "stream",
     "text": [
      "sisters tuple: ('Millie', 'Miriam')\n",
      "brothers tuple: ('John', 'Jonah', 'Jameson', 'Junior')\n",
      "siblings tuple: ('Millie', 'Miriam', 'John', 'Jonah', 'Jameson', 'Junior')\n",
      "Number of siblings: 6\n",
      "family_members tuple: ('Joaquin', 'Mary', 'Millie', 'Miriam', 'John', 'Jonah', 'Jameson', 'Junior')\n"
     ]
    }
   ],
   "source": [
    "# Create a tuple containing names of your sisters and your brothers (imaginary siblings are\n",
    "# fine)\n",
    "sisters = (\"Millie\", \"Miriam\")\n",
    "brothers = (\"John\", \"Jonah\", \"Jameson\", \"Junior\")\n",
    "print(\"sisters tuple:\", sisters)\n",
    "print(\"brothers tuple:\", brothers)\n",
    "\n",
    "# Join brothers and sisters tuples and assign it to siblings\n",
    "siblings = sisters + brothers\n",
    "print(\"siblings tuple:\", siblings)\n",
    "\n",
    "# How many siblings do you have?\n",
    "siblingCount = len(siblings)\n",
    "print(\"Number of siblings:\", siblingCount)\n",
    "\n",
    "# Modify the siblings tuple and add the name of your father and mother and assign it to\n",
    "# family_members\n",
    "father = \"Joaquin\"\n",
    "mother = \"Mary\"\n",
    "family_members = (father, mother) + siblings\n",
    "print(\"family_members tuple:\", family_members)\n",
    "\n"
   ]
  },
  {
   "cell_type": "code",
   "execution_count": 4,
   "id": "93db37e4",
   "metadata": {},
   "outputs": [
    {
     "name": "stdout",
     "output_type": "stream",
     "text": [
      "length of set it_companies: 7\n",
      "Set it_companies after adding 'Twitter': {'Google', 'Twitter', 'IBM', 'Oracle', 'Amazon', 'Microsoft', 'Apple', 'Facebook'}\n",
      "Set it_companies after adding 'YouTube' and 'Spotify': {'Google', 'Twitter', 'Oracle', 'YouTube', 'Spotify', 'IBM', 'Amazon', 'Microsoft', 'Apple', 'Facebook'}\n",
      "Set it_companies after removing 'Spotify': {'Google', 'Twitter', 'Oracle', 'YouTube', 'IBM', 'Amazon', 'Microsoft', 'Apple', 'Facebook'}\n",
      "{19, 20, 22, 24, 25, 26, 27, 28}\n",
      "{19, 20, 22, 24, 25, 26}\n",
      "A is subset of B\n",
      "A and B are not disjoint sets\n",
      "A joined with B: None\n",
      "B joined with A: None\n",
      "Symmetric difference between A and B: set()\n",
      "Sets it_companies, A, and B deleted successfully\n",
      "List age has length: 8\n",
      "Set ageSet has length: 5\n",
      "Length difference: 3\n"
     ]
    }
   ],
   "source": [
    "it_companies = {'Facebook', 'Google', 'Microsoft', 'Apple', 'IBM', 'Oracle', 'Amazon'}\n",
    "A = {19, 22, 24, 20, 25, 26}\n",
    "B = {19, 22, 20, 25, 26, 24, 28, 27}\n",
    "age = [22, 19, 24, 25, 26, 24, 25, 24]\n",
    "\n",
    "# Find the length of the set it_companies\n",
    "it_companies_len = len(it_companies)\n",
    "print(\"length of set it_companies:\", it_companies_len)\n",
    "\n",
    "# Add 'Twitter' to it_companies\n",
    "it_companies.add(\"Twitter\")\n",
    "print(\"Set it_companies after adding 'Twitter':\", it_companies)\n",
    "\n",
    "# Insert multiple IT companies at once to the set it_companies\n",
    "it_companies.update({\"YouTube\", \"Spotify\"})\n",
    "print(\"Set it_companies after adding 'YouTube' and 'Spotify':\", it_companies)\n",
    "\n",
    "# Remove one of the companies from the set it_companies\n",
    "it_companies.remove(\"Spotify\")\n",
    "print(\"Set it_companies after removing 'Spotify':\", it_companies)\n",
    "\n",
    "# What is the difference between remove and discard\n",
    "## remove raises a KeyError exception if the specified item is not in the set,\n",
    "## while discard will not raise an exception.\n",
    "\n",
    "# Join A and B\n",
    "ABJoin = A | B\n",
    "print(ABJoin)\n",
    "# Find A intersection B\n",
    "ABIntersect = A & B\n",
    "print(ABIntersect)\n",
    "\n",
    "# Is A subset of B\n",
    "isSubset = A.issubset(B)\n",
    "if isSubset:\n",
    "    print(\"A is subset of B\")\n",
    "else:\n",
    "    print(\"A is not subset of B\")\n",
    "\n",
    "# Are A and B disjoint sets\n",
    "isDisjoint = A.isdisjoint(B)\n",
    "if isDisjoint:\n",
    "    print(\"A and B are disjoint sets\")\n",
    "else:\n",
    "    print(\"A and B are not disjoint sets\")\n",
    "\n",
    "# Join A with B and B with A\n",
    "ABJoin = A.update(B)\n",
    "BAJoin = B.update(A)\n",
    "print(\"A joined with B:\", ABJoin)\n",
    "print(\"B joined with A:\", BAJoin)\n",
    "\n",
    "# What is the symmetric difference between A and B\n",
    "ABSymDif = A ^ B\n",
    "print(\"Symmetric difference between A and B:\", ABSymDif)\n",
    "\n",
    "# Delete the sets completely\n",
    "del it_companies\n",
    "del A\n",
    "del B\n",
    "print(\"Sets it_companies, A, and B deleted successfully\")\n",
    "\n",
    "# Convert the ages to a set and compare the length of the list and the set.\n",
    "ageSet = set(age)\n",
    "listLen = len(age)\n",
    "setLen = len(ageSet)\n",
    "print(\"List age has length:\", listLen)\n",
    "print(\"Set ageSet has length:\", setLen)\n",
    "print(\"Length difference:\", listLen - setLen)\n",
    "\n"
   ]
  },
  {
   "cell_type": "code",
   "execution_count": 5,
   "id": "123586f8",
   "metadata": {},
   "outputs": [
    {
     "name": "stdout",
     "output_type": "stream",
     "text": [
      "Enter radius: 7\n",
      "Area of circle: 153.86\n",
      "Circumference of circle: 43.96\n"
     ]
    }
   ],
   "source": [
    "# Take radius as user input and calculate the area.\n",
    "radius = float(input(\"Enter radius: \"))\n",
    "\n",
    "# Calculate the area of a circle and assign the value to a variable name of _area_of_circle_\n",
    "_area_of_circle_ = 3.14 * radius ** 2\n",
    "print(\"Area of circle:\", _area_of_circle_)\n",
    "\n",
    "# Calculate the circumference of a circle and assign the value to a variable name of _circum_of_circle_\n",
    "_circum_of_circle_ = 3.14 * radius * 2\n",
    "print(\"Circumference of circle:\", _circum_of_circle_)\n",
    "\n"
   ]
  },
  {
   "cell_type": "code",
   "execution_count": 6,
   "id": "c9d663f9",
   "metadata": {},
   "outputs": [
    {
     "name": "stdout",
     "output_type": "stream",
     "text": [
      "Unique words in sentence: 10\n"
     ]
    }
   ],
   "source": [
    "# How many unique words have been used in the sentence? Use the split methods and set\n",
    "# to get the unique words.\n",
    "sentence = \"I am a teacher and I love to inspire and teach people\"\n",
    "wordList = sentence.split(\" \")\n",
    "wordSet = set(wordList)\n",
    "unique = len(wordSet)\n",
    "print(\"Unique words in sentence:\", unique)\n"
   ]
  },
  {
   "cell_type": "code",
   "execution_count": 7,
   "id": "2e11dc63",
   "metadata": {},
   "outputs": [
    {
     "name": "stdout",
     "output_type": "stream",
     "text": [
      "Name\tAge\tCountry\tCity\n",
      "Asabeneh\t250\tFinland\tHelsinki\n"
     ]
    }
   ],
   "source": [
    "# Use a tab escape sequence to get the following lines.\n",
    "print(\"Name\\tAge\\tCountry\\tCity\\nAsabeneh\\t250\\tFinland\\tHelsinki\")"
   ]
  },
  {
   "cell_type": "code",
   "execution_count": 10,
   "id": "6c4bbbd1",
   "metadata": {},
   "outputs": [
    {
     "name": "stdout",
     "output_type": "stream",
     "text": [
      "The area of a circle with radius 10 is 314 meters square.\n"
     ]
    }
   ],
   "source": [
    "# Use the string formatting method to display the following:\n",
    "# radius = 10\n",
    "# area = 3.14 * radius ** 2\n",
    "# \"The area of a circle with radius 10 is 314 meters square.\"\n",
    "\n",
    "radius = 10\n",
    "area = 3.14 * radius ** 2\n",
    "print(\"The area of a circle with radius %s is %d meters square.\" % (radius, area))\n"
   ]
  },
  {
   "cell_type": "code",
   "execution_count": null,
   "id": "599e5813",
   "metadata": {},
   "outputs": [],
   "source": [
    "#Write a program, which reads weights (lbs.) of N students into a list and convert these weights to\n",
    "#kilograms in a separate list using Loop. N: No of students (Read input from user)\n",
    "students = int(input(\"enter no of students\"))\n",
    "#creating empty list\n",
    "weight_lbs = []\n",
    "weight_kgs = []\n",
    "for stu in range(students):\n",
    "    # get the input of data and adding up to the list\n",
    "    weight_lbs.append(int(input(\"enter weight\"+str(stu)+\"\"))) \n",
    "    #converting lbs to kgs\n",
    "    weight_kgs.append(round(weight_lbs[stu]*0.45392,2))\n",
    "    print(\"convertion of weight in lbs \",weight_lbs)\n",
    "    print(\"cionvertion of weight in kgs \",weight_kgs)"
   ]
  },
  {
   "cell_type": "code",
   "execution_count": null,
   "id": "577bb0ea",
   "metadata": {},
   "outputs": [],
   "source": []
  }
 ],
 "metadata": {
  "kernelspec": {
   "display_name": "Python 3 (ipykernel)",
   "language": "python",
   "name": "python3"
  },
  "language_info": {
   "codemirror_mode": {
    "name": "ipython",
    "version": 3
   },
   "file_extension": ".py",
   "mimetype": "text/x-python",
   "name": "python",
   "nbconvert_exporter": "python",
   "pygments_lexer": "ipython3",
   "version": "3.9.12"
  }
 },
 "nbformat": 4,
 "nbformat_minor": 5
}
